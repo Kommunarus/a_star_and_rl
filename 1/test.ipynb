{
 "cells": [
  {
   "cell_type": "code",
   "execution_count": 6,
   "outputs": [],
   "source": [
    "import gym\n",
    "from pogema.wrappers.multi_time_limit import MultiTimeLimit\n",
    "from pogema.animation import AnimationMonitor\n",
    "\n",
    "\n",
    "import gym\n",
    "import pogema\n",
    "\n",
    "env = gym.make(\"Pogema-32x32-extra-hard-v0\")\n",
    "env = AnimationMonitor(env)\n",
    "\n",
    "obs = env.reset()\n",
    "\n",
    "done = [False, ...]\n",
    "\n",
    "while not all(done):\n",
    "    # Use random policy to make actions\n",
    "    obs, reward, done, info = env.step([env.action_space.sample() for _ in range(len(obs))])\n",
    "\n",
    "\n",
    "env.save_animation(\"render.svg\", egocentric_idx=None)"
   ],
   "metadata": {
    "collapsed": false,
    "pycharm": {
     "name": "#%%\n"
    }
   }
  },
  {
   "cell_type": "code",
   "execution_count": null,
   "outputs": [],
   "source": [],
   "metadata": {
    "collapsed": false,
    "pycharm": {
     "name": "#%%\n"
    }
   }
  }
 ],
 "metadata": {
  "kernelspec": {
   "display_name": "Python 3",
   "language": "python",
   "name": "python3"
  },
  "language_info": {
   "codemirror_mode": {
    "name": "ipython",
    "version": 2
   },
   "file_extension": ".py",
   "mimetype": "text/x-python",
   "name": "python",
   "nbconvert_exporter": "python",
   "pygments_lexer": "ipython2",
   "version": "2.7.6"
  }
 },
 "nbformat": 4,
 "nbformat_minor": 0
}